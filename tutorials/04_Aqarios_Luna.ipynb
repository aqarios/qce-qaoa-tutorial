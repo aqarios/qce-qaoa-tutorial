{
 "cells": [
  {
   "cell_type": "markdown",
   "id": "bbab76bf-4962-476f-9c51-3def9552b417",
   "metadata": {},
   "source": [
    "# 4. Aqarios Luna Platform and FlexQAOA\n",
    "\n",
    "### Overview\n",
    "\n",
    "In this notebook, we will touch upon the product of Aqarios GmbH, which is the **Luna Platform**\n",
    "\n",
    "Luna is comprised of three pillars, namely\n",
    "1. **LunaQ**: Universal access to a plethora of Quantum Backends, including IonQ, IQM, Rigetti, and D-Wave.\n",
    "2. **LunaSolve**: A collection of quantum, classical, and hybrid algorithms for solving combinatorial optimization problems\n",
    "3. **LunaBench**: A benchmarking framework for comparing algorithms and encodings on optimization problem datasets.\n",
    "\n",
    "Luna features one of our algorithmic developments: _FlexQAOA_, a QAOA implementation that includes the automatic QAOA design features we have developed today, amongst others as we will learn later.\n",
    "Furthermore, FlexQAOA features a specialized simulator that uses a feasible-subspace constrained Quantum Algorithm by only simulating the necessary statevector entries. This allows simulating drastically larger optimization problems as are possible without this extension.\n",
    "\n",
    "### Connecting to Luna\n",
    "\n",
    "Under the following link, you need to register for the Luna Platform: [app.aqarios.com](https://app.aqarios.com). Please enter \"QCE Tutorial\" when asked for what you will use Luna.\n",
    "\n",
    "After the registration has been completed, you can copy the API Key from the Platform Dashbord and store it in the `$PROJECT_ROOT/.env` file.\n",
    "```sh\n",
    "echo 'LUNA_API_KEY=\"<YOUR_API_KEY>\"' > .env\n",
    "```\n",
    "Then you should be able to access Luna.\n",
    "> **Note:** FlexQAOA is currently a paid feature in the platform. You will have access to the solver throughout Quantum Week; afterwards, this access will be retracted."
   ]
  },
  {
   "cell_type": "code",
   "execution_count": null,
   "id": "4ac4af3a-6e74-48a2-abf0-85aacb0727aa",
   "metadata": {},
   "outputs": [],
   "source": [
    "import os\n",
    "import numpy as np\n",
    "import matplotlib.pyplot as plt\n",
    "import rich\n",
    "import random\n",
    "\n",
    "# Luna imports\n",
    "from luna_quantum import algorithms, LunaSolve, Model\n",
    "from luna_quantum.solve.parameters.algorithms.base_params import (\n",
    "    BasicQAOAParams,\n",
    "    RandomQAOAParams,\n",
    "    LinearQAOAParams,\n",
    "    ScipyOptimizerParams,\n",
    ")\n",
    "from luna_quantum.solve.parameters.algorithms.quantum_gate.flex_qaoa import (\n",
    "    InterpolateOptimizerParams,\n",
    ")\n",
    "\n",
    "# Transformaitons stuff\n",
    "from luna_quantum.transformations import PassManager\n",
    "\n",
    "# Classical optimization\n",
    "from scipy.optimize import minimize\n",
    "\n",
    "# Import model data\n",
    "from model.data import ConventionCenter, Schedule, SessionChair\n",
    "from model.visualization import (\n",
    "    plot_floor_plan,\n",
    "    solution_to_assignment,\n",
    ")\n",
    "from model.model import optimization_model\n",
    "\n",
    "# Import utils (from last notebook)\n",
    "from utils.sampling import cost_function, sample\n",
    "from utils.qaoa import qaoa_circ_adv\n",
    "from utils import pretty\n",
    "\n",
    "%load_ext dotenv\n",
    "%dotenv"
   ]
  },
  {
   "cell_type": "code",
   "execution_count": null,
   "id": "53b92b92-39d3-40a1-80d4-4eb3d94b3187",
   "metadata": {},
   "outputs": [],
   "source": [
    "if os.environ.get(\"LUNA_API_KEY\") is not None:\n",
    "    print(\"✅ API Key found\")\n",
    "else:\n",
    "    print(\"❌ API Key not found!\")"
   ]
  },
  {
   "cell_type": "code",
   "execution_count": null,
   "id": "3c0ceab5-093b-45e3-88cb-54c80e063cb2",
   "metadata": {},
   "outputs": [],
   "source": [
    "# Try connecting to Luna\n",
    "try:\n",
    "    LunaSolve()\n",
    "    print(\"✅ Successfully connected to Luna.\")\n",
    "except Exception as e:\n",
    "    print(\"❌ Connection to Luna failed.\")\n",
    "    raise e"
   ]
  },
  {
   "cell_type": "markdown",
   "id": "b5f84b2c-5f30-46de-9868-e75d74d03bd0",
   "metadata": {},
   "source": [
    "## The Session Chair Assignment Problem, Again\n",
    "\n",
    "We use the same problem as investageted in the last notebooks here as well."
   ]
  },
  {
   "cell_type": "code",
   "execution_count": null,
   "id": "1767d119-e344-447f-85a1-11f24c8d47c7",
   "metadata": {},
   "outputs": [],
   "source": [
    "center = ConventionCenter.generate()\n",
    "schedule = Schedule.random(5, center, seed=5)\n",
    "chairs = SessionChair.random_chairs(3, schedule=schedule, seed=2)\n",
    "\n",
    "satisfaction = 2\n",
    "\n",
    "plot_floor_plan(center, schedule=schedule, chairs=chairs)"
   ]
  },
  {
   "cell_type": "code",
   "execution_count": null,
   "id": "d0093143-b586-4c42-9c22-0f3c1335ff64",
   "metadata": {},
   "outputs": [],
   "source": [
    "x, model = optimization_model(center, schedule, chairs, satisfaction=satisfaction)\n",
    "# model.add_variable(\"y\")"
   ]
  },
  {
   "cell_type": "markdown",
   "id": "7b750cc1-48f2-4df4-8b6b-baddeb7c2c78",
   "metadata": {},
   "source": [
    "## Basic LunaSolve usage\n",
    "In the `luna_quantum.algorithms` module, you can find a list of the platform's available solvers. Currently, not all solvers can solve all models; most solvers and heuristics are specialized for Quadratic Unconstrained Binary Optimization Problems. In the upcoming months, we will roll out the transformations internally, making general transformations to fit formats a feature for all available solvers.\n",
    "\n",
    "One of the solvers that is capable of solving constrained optimization problems is **SCIP** (Solving Constrained Integer Problems). This is a classical branch-and-cut solver that mathematically proves that the found solution is the optimum one, when it converges. Simply instantiate an solver object (other solvers may have parameters) and run the algorithm with the model attached."
   ]
  },
  {
   "cell_type": "code",
   "execution_count": null,
   "id": "2ed66c64-bb52-4a85-ab4a-1c6c19ef9010",
   "metadata": {},
   "outputs": [],
   "source": [
    "scip = algorithms.SCIP()\n",
    "sol = scip.run(model).result()"
   ]
  },
  {
   "cell_type": "code",
   "execution_count": null,
   "id": "d0096352-c1cb-418e-bd87-204a8abe5ab2",
   "metadata": {},
   "outputs": [],
   "source": [
    "# Just a single solution here\n",
    "pretty(sol)"
   ]
  },
  {
   "cell_type": "code",
   "execution_count": null,
   "id": "22ad0dea-4037-41d3-987c-f147ccb18584",
   "metadata": {},
   "outputs": [],
   "source": [
    "assignment = solution_to_assignment(sol, chairs)\n",
    "plot_floor_plan(center, schedule=schedule, chairs=chairs, assignment=assignment)"
   ]
  },
  {
   "cell_type": "markdown",
   "id": "aef3148f-6a37-47fb-af7c-8383f6653ed4",
   "metadata": {},
   "source": [
    "## FlexQAOA\n",
    "\n",
    "As already teasered, FlexQAOA helps"
   ]
  },
  {
   "cell_type": "code",
   "execution_count": null,
   "id": "53dd871a-4576-42d1-8574-aa5eaea050ab",
   "metadata": {},
   "outputs": [],
   "source": [
    "fqaoa = algorithms.FlexQAOA(reps=3)\n",
    "rich.print(fqaoa)"
   ]
  },
  {
   "cell_type": "code",
   "execution_count": null,
   "id": "73e5a44b-6385-43db-a45c-9e5d5dee4030",
   "metadata": {},
   "outputs": [],
   "source": [
    "sol = fqaoa.run(model).result()\n",
    "pretty(sol)"
   ]
  },
  {
   "cell_type": "code",
   "execution_count": null,
   "id": "28b8d55b-c1bb-493e-80a4-6a0770223b29",
   "metadata": {},
   "outputs": [],
   "source": [
    "assignment = solution_to_assignment(sol, chairs)\n",
    "plot_floor_plan(center, schedule=schedule, chairs=chairs, assignment=assignment)"
   ]
  },
  {
   "cell_type": "markdown",
   "id": "6a68d68d-1288-470c-bea9-d2e8f07f6e5c",
   "metadata": {},
   "source": [
    "Disable the XY-Mixers and use Quadratic Penalties instead. This can be simply done by disabling the `pipeline.one_hot` setting."
   ]
  },
  {
   "cell_type": "code",
   "execution_count": null,
   "id": "2116ba04-7570-4ad7-b751-8a6640132823",
   "metadata": {},
   "outputs": [],
   "source": [
    "fqaoa = algorithms.FlexQAOA(reps=3)\n",
    "fqaoa.pipeline.one_hot = None\n",
    "sol2 = fqaoa.run(model).result()\n",
    "\n",
    "pretty(sol2)"
   ]
  },
  {
   "cell_type": "code",
   "execution_count": null,
   "id": "a0df18bd-ca51-4569-b324-e8b13e74f113",
   "metadata": {},
   "outputs": [],
   "source": [
    "fqaoa = algorithms.FlexQAOA(reps=1, optimizer=InterpolateOptimizerParams(reps_end=5))\n",
    "sol3 = fqaoa.run(model).result()\n",
    "\n",
    "pretty(sol3)"
   ]
  },
  {
   "cell_type": "markdown",
   "id": "4ec19eb3-2f6d-49dc-a26f-f37712eba97a",
   "metadata": {},
   "source": [
    "**Comparing The Approaches...**\n",
    "\n",
    "...clearly shows that the XY-Mixer one delivers drastically better solutions. This is with filtering out all infeasible samples in the penaltiy one."
   ]
  },
  {
   "cell_type": "code",
   "execution_count": null,
   "id": "08da9f5f-509d-41bd-a2c4-ffe8feafe519",
   "metadata": {},
   "outputs": [],
   "source": [
    "bins = np.linspace(0, 100, 50)\n",
    "# plt.hist(sol.obj_values, bins=bins, weights=sol.counts)\n",
    "plt.hist(\n",
    "    sol3.obj_values,\n",
    "    bins=bins,\n",
    "    weights=sol3.counts,\n",
    "    alpha=0.6,\n",
    "    label=\"FlexQAOA(XY, interp)\",\n",
    ")\n",
    "plt.axvline(x=sol3.expectation_value(), linestyle=\"dashed\")\n",
    "plt.hist(sol.obj_values, bins=bins, weights=sol.counts, alpha=0.6, label=\"FlexQAOA(XY)\")\n",
    "plt.axvline(x=sol.expectation_value(), color=\"C1\", linestyle=\"dashed\")\n",
    "plt.hist(\n",
    "    sol2.raw_energies,\n",
    "    bins=bins,\n",
    "    weights=sol2.counts,\n",
    "    alpha=0.6,\n",
    "    label=\"FlexQAOA(no XY)\",\n",
    ")\n",
    "plt.axvline(x=sol2.expectation_value(), color=\"C2\", linestyle=\"dashed\")\n",
    "plt.legend();"
   ]
  },
  {
   "cell_type": "markdown",
   "id": "f8704773-4dda-45ea-8c57-401aef63d302",
   "metadata": {},
   "source": [
    "## We Can Go Larger\n",
    "\n",
    "As already teased in the overview, focusing on the constrained subspace allows us to increase the problem size while keeping computational demand low.\n",
    "\n",
    "FlexQAOA's simulator in Luna is currently limited to an equivalent of $2^{18}$ qubits state vector simulation due to CPU simulation only. In the following, we increase the problem to 11 rooms and 3 session chairs.\n",
    "With the penalty formalism, this requires 33 qubits in simulation. However, FlexQAOA simulates a state vector with $3^{11} \\approx 177\\ 000 < 2^{18}$, making this problem accessible to simulation."
   ]
  },
  {
   "cell_type": "code",
   "execution_count": null,
   "id": "a6e1b5f7-c5b8-4345-ac3c-185ee6c09ae4",
   "metadata": {},
   "outputs": [],
   "source": [
    "center = ConventionCenter.generate()\n",
    "schedule = Schedule.random(11, center, seed=5)\n",
    "chairs = SessionChair.random_chairs(3, schedule=schedule, seed=2)\n",
    "\n",
    "satisfaction = 2\n",
    "\n",
    "plot_floor_plan(center, schedule=schedule, chairs=chairs)"
   ]
  },
  {
   "cell_type": "code",
   "execution_count": null,
   "id": "3700b7a8-105f-4f50-8c4b-29c12e4cfd7f",
   "metadata": {},
   "outputs": [],
   "source": [
    "x, model = optimization_model(center, schedule, chairs, satisfaction=satisfaction)"
   ]
  },
  {
   "cell_type": "code",
   "execution_count": null,
   "id": "535bce49-3816-4d3c-8260-e452f302c90e",
   "metadata": {},
   "outputs": [],
   "source": [
    "fqaoa = algorithms.FlexQAOA(reps=3)\n",
    "# You can try disabling XY-Mixers, but this will eventually fail\n",
    "# fqaoa.pipeline.one_hot = None\n",
    "sol = fqaoa.run(model).result()\n",
    "pretty(sol)"
   ]
  },
  {
   "cell_type": "code",
   "execution_count": null,
   "id": "a213cd56-6c72-48ee-815c-39b57174d7ba",
   "metadata": {},
   "outputs": [],
   "source": [
    "assignment = solution_to_assignment(sol, chairs)\n",
    "plot_floor_plan(center, schedule=schedule, chairs=chairs, assignment=assignment)"
   ]
  },
  {
   "cell_type": "code",
   "execution_count": null,
   "id": "1b6259ea-96ec-4477-808d-a0a212ea1c43",
   "metadata": {},
   "outputs": [],
   "source": [
    "sol_scip = scip.run(model).result()\n",
    "pretty(sol_scip)"
   ]
  },
  {
   "cell_type": "markdown",
   "id": "4a4ccceb-ecec-4789-a77c-94d3be620cfa",
   "metadata": {},
   "source": [
    "# Preparation for Bechmarking\n",
    "\n",
    "In our next step, we will perform comprehensive benchmarking. To this end, it is a great idea to wrap our code into the same API as the `luna_quantum` module has.\n",
    "\n",
    "This class is responsible for algorithm parameters, initial variational parameters and optimizer parameters."
   ]
  },
  {
   "cell_type": "code",
   "execution_count": null,
   "id": "e0da2a35-9411-4d28-be69-9e5b3776c578",
   "metadata": {},
   "outputs": [],
   "source": [
    "class MyQAOA:\n",
    "    \"\"\"Wraps our QAOA implementation in Luna Quantum API.\"\"\"\n",
    "\n",
    "    def __init__(\n",
    "        self,\n",
    "        pass_manager: PassManager,\n",
    "        reps: int = 1,\n",
    "        shots: int = 1024,\n",
    "        initial_params: LinearQAOAParams\n",
    "        | BasicQAOAParams\n",
    "        | RandomQAOAParams\n",
    "        | None = None,\n",
    "        optimizer: ScipyOptimizerParams | None = None,\n",
    "    ):\n",
    "        self.pass_manager = pass_manager\n",
    "        self.reps = reps\n",
    "        self.shots = shots\n",
    "        self.params = initial_params or LinearQAOAParams(\n",
    "            delta_beta=0.5, delta_gamma=0.5\n",
    "        )\n",
    "        self.optimizer = optimizer or ScipyOptimizerParams()\n",
    "\n",
    "        self.qc = None\n",
    "\n",
    "    def _get_initial(self):\n",
    "        \"\"\"Generates initial QAOA circuit params from input.\"\"\"\n",
    "        if isinstance(self.params, LinearQAOAParams):\n",
    "            delta = 1 / self.reps\n",
    "            betas = [\n",
    "                self.params.delta_beta * (1 - delta / 2 - delta * i)\n",
    "                for i in range(self.reps)\n",
    "            ]\n",
    "            gammas = [\n",
    "                self.params.delta_gamma * (delta / 2 + delta * i)\n",
    "                for i in range(self.reps)\n",
    "            ]\n",
    "            return betas + gammas\n",
    "        elif isinstance(self.params, BasicQAOAParams):\n",
    "            return self.params.betas + self.params.gammas\n",
    "        else:\n",
    "            random.seed(self.params.seed)\n",
    "            betas = [random.uniform(*self.params.beta_range) for _ in range(self.reps)]\n",
    "            gammas = [\n",
    "                random.uniform(*self.params.gamma_range) for _ in range(self.reps)\n",
    "            ]\n",
    "            return betas + gammas\n",
    "\n",
    "    def _optimizer_kwargs(self):\n",
    "        \"\"\"Generates a scipy minimize compliant kwargs dict from input.\"\"\"\n",
    "        kwargs = self.optimizer.model_dump(exclude_none=True)\n",
    "        kwargs[\"options\"][\"maxiter\"] = kwargs.pop(\"maxiter\")\n",
    "        return kwargs\n",
    "\n",
    "    @property\n",
    "    def circuit(self):\n",
    "        \"\"\"Store and receive the quantum circuit.\"\"\"\n",
    "        if self.qc is None:\n",
    "            raise RuntimeError(\"Make sure to run algorithm before accessing circuit\")\n",
    "        return self.qc\n",
    "\n",
    "    def run(self, model: Model):\n",
    "        \"\"\"Runs the QAOA.\"\"\"\n",
    "        x0 = self._get_initial()\n",
    "        optimizer_kwargs = self._optimizer_kwargs()\n",
    "\n",
    "        ################################################################################\n",
    "        ### YOUR CODE BELOW\n",
    "        ################################################################################\n",
    "\n",
    "\n",
    "\n",
    "        ################################################################################\n",
    "        ### UNTIL HERE\n",
    "        ################################################################################\n",
    "\n",
    "        # Cache the quantum circuit\n",
    "        self.qc = qc\n",
    "\n",
    "        # Result wrapper to align with the job pattern\n",
    "        class ResultWrapper:\n",
    "            def result(self):\n",
    "                return res\n",
    "\n",
    "        return ResultWrapper()"
   ]
  },
  {
   "cell_type": "markdown",
   "id": "bd580a43-5496-4ae4-9ca9-2d07a854fea7",
   "metadata": {},
   "source": [
    "---\n",
    "\n",
    "## 🎉 Congratulations!\n",
    "\n",
    "You've successfully completed this tutorial! We hope you found it helpful and informative.\n",
    "\n",
    "### 📖 References & Further Reading\n",
    "This tutorial was built upon the following resources:\n",
    "\n",
    "- Luna Docs [[Link]](https://docs.aqarios.com)\n",
    "- D. Bucher et al., 2025: \"Efficient QAOA Architecture for Solving Multi-Constrained Optimization Problems\" [[Paper]](https://arxiv.org/abs/2506.03115)\n",
    "\n",
    "### 🚀 Coming Up Next\n",
    "\n",
    "In the [next tutorial](05_Benchmarking.ipynb), we will benchmark our implementation with FlexQAOA to quantify the performance improvement of advanced architectures.\n",
    "\n",
    "---\n",
    "## 💡 Ready to dive deeper?\n",
    "\n",
    "Explore more tutorials, documentation, and resources to accelerate your journey\n",
    "\n",
    "<img src=\"https://docs.aqarios.com/assets/aqarios.png#only-light\" width=\"400px\" alt=\"Aqarios Logo\" />\n",
    "\n",
    "[![Website](https://img.shields.io/badge/🌐_Website-Visit_Aqarios.com-blue?style=for-the-badge)](https://www.aqarios.com)\n",
    "[![Documentation](https://img.shields.io/badge/📚_Documentation-Explore_Docs-green?style=for-the-badge)](https://docs.aqarios.com)\n",
    "[![LinkedIn](https://img.shields.io/badge/🤝_LinkedIn-Connect_With_Us-0077B5?style=for-the-badge&logo=linkedin)](https://www.linkedin.com/company/aqarios-gmbh/)\n",
    "\n",
    "\n",
    "**What's Next?**\n",
    "\n",
    "- **Explore our documentation** for advanced features and best practices\n",
    "- **Join our community** on LinkedIn for updates and discussions  \n",
    "- **Check out more tutorials** to expand your skills\n",
    "\n",
    "### 💬 Need Help?\n",
    "\n",
    "Have questions or feedback about this tutorial? We'd love to hear from you! Connect with us through any of the links above.\n",
    "\n",
    "---\n",
    "\n",
    "<div align=\"center\">\n",
    "<small>\n",
    "\n",
    "Tutorial provided by Aqarios GmbH | © 2025 Aqarios GmbH | Made with ❤️ for developers\n",
    "\n",
    "</small>\n",
    "</div>"
   ]
  }
 ],
 "metadata": {
  "kernelspec": {
   "display_name": "Python 3 (ipykernel)",
   "language": "python",
   "name": "python3"
  },
  "language_info": {
   "codemirror_mode": {
    "name": "ipython",
    "version": 3
   },
   "file_extension": ".py",
   "mimetype": "text/x-python",
   "name": "python",
   "nbconvert_exporter": "python",
   "pygments_lexer": "ipython3"
  }
 },
 "nbformat": 4,
 "nbformat_minor": 5
}
