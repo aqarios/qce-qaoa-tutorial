{
 "cells": [
  {
   "cell_type": "code",
   "execution_count": null,
   "id": "694f583a-6fcd-4d2c-a7d9-2c9dbb9a7c37",
   "metadata": {},
   "outputs": [],
   "source": []
  }
 ],
 "metadata": {
  "kernelspec": {
   "display_name": "Mojo",
   "language": "mojo",
   "name": "mojo-jupyter-kernel"
  },
  "language_info": {
   "codemirror_mode": {
    "name": "mojo"
   },
   "file_extension": ".mojo",
   "mimetype": "text/x-mojo",
   "name": "mojo"
  }
 },
 "nbformat": 4,
 "nbformat_minor": 5
}
