{
 "cells": [
  {
   "cell_type": "markdown",
   "id": "2fdc17f3-eb7a-4f29-a844-8ffaae234344",
   "metadata": {},
   "source": [
    "# 2. Constraints, Penalty Terms and Transformations\n",
    "## Overview\n",
    "\n",
    "In this tutorial notebook, we will explore the QCE Session Chair Assignment Problem. This is a constrained optimization problem that first needs to be reformulated into an unconstrained format in order to be solved with QAOA. To this end we will get in touch with the `transformations` feature of AqModels, which allows you to construct specific, generalized pipelines for optimization model transformation.\n",
    "\n"
   ]
  },
  {
   "cell_type": "code",
   "execution_count": null,
   "id": "80031211-f1d6-4060-a024-1b0b44b10ad0",
   "metadata": {},
   "outputs": [],
   "source": [
    "import itertools\n",
    "\n",
    "import matplotlib.pyplot as plt\n",
    "import numpy as np\n",
    "\n",
    "# Optimization modeling library\n",
    "from luna_quantum import (\n",
    "    Comparator,\n",
    "    Model,\n",
    "    Solution,\n",
    "    quicksum,\n",
    ")\n",
    "\n",
    "# Classical optimization\n",
    "from scipy.optimize import minimize\n",
    "\n",
    "# Import model data\n",
    "from model.data import ConventionCenter, Schedule, SessionChair\n",
    "from model.visualization import plot_floor_plan, plot_satisfaction\n",
    "\n",
    "# Import utils\n",
    "from utils import pretty, optimize_and_plot"
   ]
  },
  {
   "cell_type": "markdown",
   "id": "cdca89ae-6c88-4dc6-a318-4f031d380f6a",
   "metadata": {},
   "source": [
    "## The QCE Session Chair Assignment Problem\n",
    "\n",
    "We have the following scenario: This year, Quantum Week is unfortunately massively understaffed, meaning that there are more sessions held in parallel than the number of people who can chair each of the sessions. This means that a single person has to chair multiple sessions simultaneously. To this end, we are posed with the challenge of finding an assignment that causes the least inconvenience to all of the available personnel.\n",
    "\n",
    "The inconvenience per person is calculated by:\n",
    "- The **walking distance** between all the rooms he is assigned to, the more rooms, the more walking anyone has to do. This distance is weighted by a **fitness** factor (between 1 and 3, where 3 means most fit).\n",
    "- Minus the satisfaction of chairing sessions, the person is actually interested in.\n",
    "\n",
    "Below, you can see part of the Albuquerque convention center that is of our interest.\n",
    "The five rooms marked in blue are the ones where a session is about to be held. Additionally, there are three chairs with varying fitness levels and different favourite sessions."
   ]
  },
  {
   "cell_type": "code",
   "execution_count": null,
   "id": "1767d119-e344-447f-85a1-11f24c8d47c7",
   "metadata": {},
   "outputs": [],
   "source": [
    "center = ConventionCenter.generate()\n",
    "schedule = Schedule.random(5, center, seed=5)\n",
    "chairs = SessionChair.random_chairs(3, schedule=schedule, seed=2)\n",
    "\n",
    "satisfaction = 2\n",
    "\n",
    "plot_floor_plan(center, schedule=schedule, chairs=chairs);"
   ]
  },
  {
   "cell_type": "markdown",
   "id": "fed1adc6-b0d7-41e4-977f-a1fbeed2d492",
   "metadata": {},
   "source": [
    "### Mathematical Formualtion\n",
    "\n",
    "Mathematically, we can define the optimization problem through a binary variable per room $r$ and person $i$, namely $x_{r,i}\\in\\{0,1\\}$. The distances between the rooms is given by $d_{r,r'}$, the fitness $f_i \\in [1, 3]$ and the satisfaction score $s$. Together, the objective quantifying the inconvenience is the following\n",
    "\n",
    "$$ \\begin{align}\n",
    "\\underset{x}{\\mathrm{argmin}}& \\sum_{i\\in C} (4-f_i) \\sum_{r > r' \\in R} d_{r,r'} x_{r, i} x_{r', i} - s \\sum_{i \\in C} \\sum_{r \\in R_i} x_{r, i}\\\\\n",
    "\\text{s.t.} & \\sum_{i \\in C} x_{r, i} = 1 \\quad \\forall r \\in R\n",
    "\\end{align} $$\n",
    "\n",
    "The **one-hot constraint** ensures that each room has exactly one person assigned to it.\n",
    "\n",
    "### Modelling\n",
    "\n",
    "Given the mathematical formulation, we can now model the problem in code using our modelling framework."
   ]
  },
  {
   "cell_type": "code",
   "execution_count": null,
   "id": "8b64aa91-8efe-4d1c-899e-67cc1c0295ca",
   "metadata": {},
   "outputs": [],
   "source": [
    "# Initialize minimization model\n",
    "model = Model(\"Session chair assignment\")\n",
    "\n",
    "# Add binary variables to the optimization model\n",
    "x = {}\n",
    "for r in schedule.rooms():\n",
    "    for i in range(len(chairs)):\n",
    "        # If no vtype is specified, binary vtype is selected by default\n",
    "        x[r, i] = model.add_variable(f\"x_{r}_{i}\")\n",
    "\n",
    "# Objective function part 1: Minimize total distance to travel for every session chair\n",
    "# Hint: `model.objective += expr`\n",
    "distance = center.distance_map\n",
    "########################################################################################\n",
    "### YOUR CODE BELOW\n",
    "########################################################################################\n",
    "\n",
    "\n",
    "\n",
    "########################################################################################\n",
    "### UNTIL HERE\n",
    "########################################################################################\n",
    "\n",
    "# Objective function part 2: Maximize satisfaction for chairing favorite sessions\n",
    "session_to_room_map = {v: k for k, v in schedule.items()}\n",
    "model.objective -= quicksum(\n",
    "    satisfaction * x[session_to_room_map[chair.favorite], i]\n",
    "    for i, chair in enumerate(chairs)\n",
    ")\n",
    "\n",
    "\n",
    "# one-hot constraints: Every room needs to have exactly one chair\n",
    "# Hint: `model.add_constriant(expr == 1, name)`\n",
    "for room in schedule.rooms():\n",
    "    constraint_name = f\"someone_in_{room}\"\n",
    "    ####################################################################################\n",
    "    ### YOUR CODE BELOW\n",
    "    ####################################################################################\n",
    "\n",
    "\n",
    "\n",
    "    ####################################################################################\n",
    "    ### UNTIL HERE\n",
    "    ####################################################################################\n",
    "\n",
    "print(model)"
   ]
  },
  {
   "cell_type": "markdown",
   "id": "a4387b61-81e0-4207-aeb3-ba9f206061b6",
   "metadata": {},
   "source": [
    "## QUBO Formulation\n",
    "\n",
    "Unfortunately, QAOA is an optimization algorithm that can only handle binary **unconstrained** optimization problems. _(We will learn alternatives to that shortly.)_ To satisfy this condition, we need to reformulate the equality constraints as quadratic penalties. An expression $(g(x)-c)^2$ is exactly zero iff the constraint $g(x) = c$ is satisfied and greater than zero otherwise. This means if we add this quadratic penalty **alongside a well-chosen penalty factor $\\lambda$** to the objective function, the optimum of this, now unconstrained, objective is satisfying the constraint.\n",
    "\n",
    "In essence, the optimization function is the following, helping us to implement the model:\n",
    "$$ \\begin{align}\n",
    "\\underset{x}{\\mathrm{argmin}}& \\sum_{i\\in C} (4 - f_i)\\sum_{r > r' \\in R} d_{r,r'} x_{r, i} x_{r', i} - s \\sum_{i \\in C} \\sum_{r \\in R_i} x_{r, i} + \\lambda \\sum_{r \\in R} \\left(1 - \\sum_{i \\in C} x_{r, i}\\right)^2\n",
    "\\end{align} $$"
   ]
  },
  {
   "cell_type": "code",
   "execution_count": null,
   "id": "041b8b69-c5f5-4cae-a9eb-d972f21d270f",
   "metadata": {},
   "outputs": [],
   "source": [
    "# Initialize minimization model\n",
    "model2 = Model(\"Session chair assignment (penalty)\")\n",
    "\n",
    "# Add binary variables to the optimization model\n",
    "x2 = {}\n",
    "for r in schedule.rooms():\n",
    "    for i in range(len(chairs)):\n",
    "        # If no vtype is specified, binary vtype is selected by default\n",
    "        x2[r, i] = model2.add_variable(f\"x_{r}_{i}\")\n",
    "\n",
    "# Objective function part 1: Minimize total distance to travel for every session chair\n",
    "distance = center.distance_map\n",
    "model2.objective += quicksum(\n",
    "    round((4 - chair.fitness) * distance[room_a, room_b], 1) * x2[room_a, i] * x2[room_b, i]\n",
    "    for i, chair in enumerate(chairs)\n",
    "    for room_a, room_b in itertools.combinations(schedule.rooms(), r=2)\n",
    ")\n",
    "\n",
    "# Objective function part 2: Maximize satisfaction for chairing favorite sessions\n",
    "session_to_room_map = {v: k for k, v in schedule.items()}\n",
    "model2.objective -= quicksum(\n",
    "    satisfaction * x2[session_to_room_map[chair.favorite], i]\n",
    "    for i, chair in enumerate(chairs)\n",
    ")\n",
    "\n",
    "# EVERYTHING IS THE SAME UNTIL HERE\n",
    "\n",
    "penalty = 50\n",
    "\n",
    "# one-hot constraints: Every room needs to have exactly one chair\n",
    "# Now as quadratic penalty\n",
    "for room in schedule.rooms():\n",
    "    ##TASK>\n",
    "    model2.objective += (\n",
    "        penalty * (quicksum(x2[room, i] for i in range(len(chairs))) - 1) ** 2\n",
    "    )\n",
    "    ##<TASK\n",
    "\n",
    "print(model2)"
   ]
  },
  {
   "cell_type": "markdown",
   "id": "e34320ac-7786-42f8-9413-64d6b8d66da5",
   "metadata": {},
   "source": [
    "Great, this now means, we can use the `qaoa_circ` method from last notebook to generate the circuit. We provide the `qaoa_circ` together with the other methods in the `utils` module."
   ]
  },
  {
   "cell_type": "code",
   "execution_count": null,
   "id": "2b99e57e-8149-44c3-8922-1eeeeadbb2ab",
   "metadata": {},
   "outputs": [],
   "source": [
    "from utils.sampling import cost_function, sample\n",
    "from utils.qaoa import qaoa_circ\n",
    "\n",
    "qaoa_circ(model2).draw(\"mpl\", scale=0.2, fold=100)"
   ]
  },
  {
   "cell_type": "markdown",
   "id": "85f023cc-e603-4f61-a28c-446ca3d61454",
   "metadata": {},
   "source": [
    "---\n",
    "## Enter Transformations - An Automatic Approach to Constraint Reformulations\n",
    "\n",
    "Instead of manually transforming all of the models separately, let us build a pipeline that transforms an optimization problem into a format that the QAOA circuit generator can understand. For this purpose, AqModels has an integrated \"transformations\" feature. This feature borrows its architecture from common compiler design, like it is known from LLVM or Qiskit. This means, we define a `PassManager` that applies `Pass`es to the optimization model. Each pass can either be `TransformationPass` or an `AnalysisPass`. The `AnalysisPass` does not alter the model but only performs analysis on the contents, while the `TransformationPass` applies modifications to the model.\n",
    "\n",
    "After running a `PassManager` on a model, we receive an object which we call `IntermediateRepresentation`, which contains the model plus additional metadata necessary to generate the circuit.\n",
    "\n",
    "<img src=\"../assets/pass_manager.png\" width=800px />"
   ]
  },
  {
   "cell_type": "code",
   "execution_count": null,
   "id": "c7576bc6-c18f-4279-81e4-95c927cb1c9b",
   "metadata": {},
   "outputs": [],
   "source": [
    "# Transformations imports\n",
    "from luna_quantum.transformations import (\n",
    "    AnalysisCache,\n",
    "    MaxBiasAnalysis,\n",
    "    PassManager,\n",
    "    TransformationPass,\n",
    "    ActionType,\n",
    ")"
   ]
  },
  {
   "cell_type": "markdown",
   "id": "b0c8a1c0-e53b-4238-8f38-9611d4a82930",
   "metadata": {},
   "source": [
    "Before building oursevels a new transformation pass turning equality constraints to quadratic penalties, we take a look at a small, pre-defined analysis pass. Namely, the `MaxBiasAnalysis`, which finds the maximum absolute coefficient in the model. This is very useful for us, since we need to also automatically determine the penalty coefficient $\\lambda$. A common heuristic for that is to take a mutliple of the maximal bias."
   ]
  },
  {
   "cell_type": "code",
   "execution_count": null,
   "id": "e314e724-3192-4a6d-ab55-68cbb3b8896f",
   "metadata": {},
   "outputs": [],
   "source": [
    "# Define the PassManager\n",
    "pass_manager = PassManager([MaxBiasAnalysis()])\n",
    "print(pass_manager)"
   ]
  },
  {
   "cell_type": "code",
   "execution_count": null,
   "id": "1789acc0-7040-46c6-9412-0e69beec19da",
   "metadata": {},
   "outputs": [],
   "source": [
    "# Run and print the result\n",
    "print(pass_manager.run(model).cache)"
   ]
  },
  {
   "cell_type": "markdown",
   "id": "ff4c3a84-0d90-4218-a229-217876a1e6bf",
   "metadata": {},
   "source": [
    "### Our Own Transformation Pass for Quadratic Penalties\n",
    "\n",
    "Next step is to construct our own transformation pass. Simply inherit from the `TransformationPass` class and implement the necessary methods that are\n",
    "- `name`: unique identifier of this pass\n",
    "- `requires`: the passes listed here must be run before this pass\n",
    "- `run`: run the pass\n",
    "- `backwards`: Backtransform the solution if necessary\n",
    "\n",
    "Now, finish the implementation of the `QuadraticPenaltyPass` that transforms **every equality constraint** into a quadratic penalty."
   ]
  },
  {
   "cell_type": "code",
   "execution_count": null,
   "id": "b0c8d908-5c94-4491-b1f9-a631b7896a75",
   "metadata": {},
   "outputs": [],
   "source": [
    "class QuadraticPenaltyPass(TransformationPass):\n",
    "    \"\"\"Integrates equality constraints as quadratic penalties.\"\"\"\n",
    "\n",
    "    def __init__(self, penalty_multiplier: float = 5.0):\n",
    "        self.penalty_multiplier = penalty_multiplier\n",
    "\n",
    "    @property\n",
    "    def name(self):\n",
    "        return \"quadratic-penalty\"\n",
    "\n",
    "    @property\n",
    "    def requires(self):\n",
    "        return [\"max-bias\"]\n",
    "\n",
    "    @property\n",
    "    def invalidates(self):\n",
    "        return [\"max-bias\"]\n",
    "\n",
    "    def run(self, model: Model, cache: AnalysisCache):\n",
    "        max_bias = cache[\"max-bias\"]\n",
    "\n",
    "        # Eval the penalty from the scaling factor and max bias\n",
    "        penalty = self.penalty_multiplier * max_bias.val\n",
    "\n",
    "        # Keep track of what constraints need to be removed. Use indices.\n",
    "        to_remove: list[int] = []\n",
    "\n",
    "        # Hints:\n",
    "        # - You can iterate over `model.constraints`\n",
    "        # - You can check the constraint type by `constraint.comparator == Comparator.{Le, Eq, Ge}`\n",
    "        ################################################################################\n",
    "        ### YOUR CODE BELOW\n",
    "        ################################################################################\n",
    "\n",
    "\n",
    "\n",
    "        ################################################################################\n",
    "        ### UNTIL HERE\n",
    "        ################################################################################\n",
    "\n",
    "        if len(to_remove) == 0:\n",
    "            return TransformationOutcome.nothing(model)\n",
    "\n",
    "        for r in reversed(to_remove):\n",
    "            model.constraints.remove(r)\n",
    "\n",
    "        return model, ActionType.DidTransform\n",
    "\n",
    "    # Backwards function needs to be implemented. \n",
    "    # Performs the inverse transformation of the solution if necessary\n",
    "    # Here it can just be the identity\n",
    "    def backwards(self, solution: Solution, cache: AnalysisCache):\n",
    "        return solution"
   ]
  },
  {
   "cell_type": "markdown",
   "id": "f11ffd55-8cf2-4e52-b846-d07a2e9c5cb8",
   "metadata": {},
   "source": [
    "### Let's See it in Practice\n",
    "\n",
    "The `QuadraticPenaltyPass` can now be used in the pass manager likewise to the other passes"
   ]
  },
  {
   "cell_type": "code",
   "execution_count": null,
   "id": "9892b00f-46e3-42d7-9413-5d806e6cc2f3",
   "metadata": {},
   "outputs": [],
   "source": [
    "# Define a PassManager with the `penalty_multiplier=2`\n",
    "########################################################################################\n",
    "### YOUR CODE BELOW\n",
    "########################################################################################\n",
    "\n",
    "\n",
    "\n",
    "########################################################################################\n",
    "### UNTIL HERE\n",
    "########################################################################################\n",
    "\n",
    "ir = pass_manager.run(model)\n",
    "\n",
    "# Ignore for now, will become important later\n",
    "scale = 1.0\n",
    "\n",
    "print(ir.model)"
   ]
  },
  {
   "cell_type": "code",
   "execution_count": null,
   "id": "82d4f873-dcf9-48fa-ba9c-12c933ae69d0",
   "metadata": {},
   "outputs": [],
   "source": [
    "circ = lambda p: qaoa_circ(ir.model, p, scale=scale)\n",
    "final_solution, best = optimize_and_plot(circ, ir.model, range(1, 5), shots=10000)"
   ]
  },
  {
   "cell_type": "markdown",
   "id": "77b9b96a-6fcb-4d06-a176-e15924481aab",
   "metadata": {},
   "source": [
    "**Not really great optimization right? Why aren't we getting better results, especially when the number of layers increases?**\n",
    "\n",
    "The main explanation is the magnitude of the coefficients in the problem. With MaxCut, we only really have small integer coefficients. Here, our coefficients, especially with penalty terms, are significantly larger. As a consequence, a moderate gamma value of 0.5 would already overrotate the phase angle. Therefore, it is good practice to normalize the Hamiltonian before applying the phase. One common method is to divide by the maximum bias in the Hamiltonian.\n",
    "\n",
    "For this, we need to generate a new pipeline that re-evaluates the maximum bias and scales by one over the maximum bias."
   ]
  },
  {
   "cell_type": "code",
   "execution_count": null,
   "id": "71a8dbe2-bd33-439e-abc0-d4308851745e",
   "metadata": {},
   "outputs": [],
   "source": [
    "# Define a PassManager with the `penalty_multiplier=2`\n",
    "########################################################################################\n",
    "### YOUR CODE BELOW\n",
    "########################################################################################\n",
    "\n",
    "\n",
    "\n",
    "########################################################################################\n",
    "### UNTIL HERE\n",
    "########################################################################################\n",
    "\n",
    "ir = pass_manager.run(model)\n",
    "\n",
    "# Ignore for now, will become important later\n",
    "scale = 2.0 / ir.cache[\"max-bias\"].val"
   ]
  },
  {
   "cell_type": "code",
   "execution_count": null,
   "id": "d132383b-61f0-4916-85f8-7d9f76d6be1e",
   "metadata": {},
   "outputs": [],
   "source": [
    "circ = lambda p: qaoa_circ(ir.model, p, scale=scale)\n",
    "final_solution, best = optimize_and_plot(circ, ir.model, range(1, 5))"
   ]
  },
  {
   "cell_type": "markdown",
   "id": "9e591a66-45ab-419a-ac62-b79ba17b94df",
   "metadata": {},
   "source": [
    "Investigating the full set of samples in the solution reveals their distribution"
   ]
  },
  {
   "cell_type": "code",
   "execution_count": null,
   "id": "8c637167-14f2-42ca-ab2c-a7dd700734ea",
   "metadata": {},
   "outputs": [],
   "source": [
    "pretty(final_solution)"
   ]
  },
  {
   "cell_type": "markdown",
   "id": "15f8019b-a7a0-4f08-a9e0-02fd82816b3e",
   "metadata": {},
   "source": [
    "Since the transformed model is unconstrained, the feasibility ration is 100%. Backtransformation reintroduces the constraints. Thus we get the real feasiblity ratio:"
   ]
  },
  {
   "cell_type": "code",
   "execution_count": null,
   "id": "a40c2f87-4006-4f05-9536-c751b60ec1f5",
   "metadata": {},
   "outputs": [],
   "source": [
    "print(f\"Final Solution Feasibiltiy Ratio: {100 * final_solution.feasibility_ratio():.1f}%\")\n",
    "solution = pass_manager.backwards(final_solution, ir)\n",
    "print(f\"Backtransformed Solution Feasibiltiy Ratio: {100 * solution.feasibility_ratio():.1f}%\")"
   ]
  },
  {
   "cell_type": "markdown",
   "id": "8bad42c5-5039-4b56-8a48-2efa66d19970",
   "metadata": {},
   "source": [
    "### Visualization of the Best Result\n",
    "\n",
    "Let's put the chairs in their assigned rooms"
   ]
  },
  {
   "cell_type": "code",
   "execution_count": null,
   "id": "71e9a5ea-a50f-4010-926d-b704e063999e",
   "metadata": {},
   "outputs": [],
   "source": [
    "assignment = [\n",
    "    (chair.name, room)\n",
    "    for i, chair in enumerate(chairs)\n",
    "    for room in schedule.rooms()\n",
    "    if best.sample[x[room, i]]\n",
    "]\n",
    "plot_floor_plan(center, schedule=schedule, chairs=chairs, assignment=assignment)"
   ]
  },
  {
   "cell_type": "code",
   "execution_count": null,
   "id": "4d748554-77ba-48fd-a883-c9d6a1e93e78",
   "metadata": {},
   "outputs": [],
   "source": [
    "# We can plot the satisfaction per person. Ideally this is high for everyone. \n",
    "plot_satisfaction(center, schedule, chairs, assignment)"
   ]
  },
  {
   "cell_type": "markdown",
   "id": "14378a86-f8be-4e94-9afc-05cad8fff340",
   "metadata": {},
   "source": [
    "---\n",
    "\n",
    "## 🎉 Congratulations!\n",
    "\n",
    "You've successfully completed this tutorial! We hope you found it helpful and informative.\n",
    "\n",
    "### 📖 References & Further Reading\n",
    "This tutorial was built upon the following resources:\n",
    "\n",
    "- A. Lucas, 2014: Ising Formulations [[Paper]](https://www.frontiersin.org/journals/physics/articles/10.3389/fphy.2014.00005/full)\n",
    "\n",
    "### 🚀 Coming Up Next\n",
    "\n",
    "In the [next tutorial](03_XYMixers.ipynb), we will explore how one-hot constraints can be handled with **XY-Mixers** to increase performance.\n",
    "\n",
    "---\n",
    "## 💡 Ready to dive deeper?\n",
    "\n",
    "Explore more tutorials, documentation, and resources to accelerate your journey\n",
    "\n",
    "<img src=\"https://docs.aqarios.com/assets/aqarios.png#only-light\" width=\"400px\" alt=\"Aqarios Logo\" />\n",
    "\n",
    "[![Website](https://img.shields.io/badge/🌐_Website-Visit_Aqarios.com-blue?style=for-the-badge)](https://www.aqarios.com)\n",
    "[![Documentation](https://img.shields.io/badge/📚_Documentation-Explore_Docs-green?style=for-the-badge)](https://docs.aqarios.com)\n",
    "[![LinkedIn](https://img.shields.io/badge/🤝_LinkedIn-Connect_With_Us-0077B5?style=for-the-badge&logo=linkedin)](https://www.linkedin.com/company/aqarios-gmbh/)\n",
    "\n",
    "\n",
    "**What's Next?**\n",
    "\n",
    "- **Explore our documentation** for advanced features and best practices\n",
    "- **Join our community** on LinkedIn for updates and discussions  \n",
    "- **Check out more tutorials** to expand your skills\n",
    "\n",
    "### 💬 Need Help?\n",
    "\n",
    "Have questions or feedback about this tutorial? We'd love to hear from you! Connect with us through any of the links above.\n",
    "\n",
    "---\n",
    "\n",
    "<div align=\"center\">\n",
    "<small>\n",
    "\n",
    "Tutorial provided by Aqarios GmbH | © 2025 Aqarios GmbH | Made with ❤️ for developers\n",
    "\n",
    "</small>\n",
    "</div>"
   ]
  }
 ],
 "metadata": {
  "kernelspec": {
   "display_name": "Python 3 (ipykernel)",
   "language": "python",
   "name": "python3"
  },
  "language_info": {
   "codemirror_mode": {
    "name": "ipython",
    "version": 3
   },
   "file_extension": ".py",
   "mimetype": "text/x-python",
   "name": "python",
   "nbconvert_exporter": "python",
   "pygments_lexer": "ipython3"
  }
 },
 "nbformat": 4,
 "nbformat_minor": 5
}
