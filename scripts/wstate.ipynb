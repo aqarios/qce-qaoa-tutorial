{
 "cells": [
  {
   "cell_type": "code",
   "execution_count": 76,
   "id": "90fcf23c-ff2a-4527-b1b0-333c49cdbb5c",
   "metadata": {},
   "outputs": [],
   "source": [
    "from qiskit import QuantumCircuit\n",
    "from qiskit.circuit import Gate, Parameter\n",
    "from qiskit.circuit.library import RYGate\n",
    "import matplotlib.pyplot as plt"
   ]
  },
  {
   "cell_type": "code",
   "execution_count": 77,
   "id": "7d42bf8c-2c48-40fc-8d33-a66b2963d38d",
   "metadata": {},
   "outputs": [],
   "source": [
    "def g(s):\n",
    "    p = Parameter(s)\n",
    "    g = Gate(name=\"G\", num_qubits=1, params=[p])\n",
    "    qc = QuantumCircuit()\n",
    "    g.definition = qc\n",
    "    return g"
   ]
  },
  {
   "cell_type": "code",
   "execution_count": 78,
   "id": "487f198f-8d23-4f2e-8400-33a9444b296e",
   "metadata": {},
   "outputs": [],
   "source": [
    "qc = QuantumCircuit(4)\n",
    "qc.x(0)\n",
    "for i in range(3):\n",
    "    qc.append(g(f\"p_{i}\").control(), (i, i+1))\n",
    "    qc.cx(i+1, i)\n",
    "\n",
    "qc = qc.assign_parameters({\"p_0\": 1/4, \"p_1\": 1/3, \"p_2\": 1 /2})"
   ]
  },
  {
   "cell_type": "code",
   "execution_count": 79,
   "id": "4aeec279-8ae7-42b5-9de6-44adbd2000a4",
   "metadata": {},
   "outputs": [],
   "source": [
    "fig = qc.draw(\"mpl\")\n",
    "fig.savefig(\"w_linear.png\", dpi=300, bbox_inches=\"tight\")"
   ]
  },
  {
   "cell_type": "code",
   "execution_count": 83,
   "id": "0fba65c2-03f6-4244-ace8-bdb5b7ccdba9",
   "metadata": {},
   "outputs": [],
   "source": [
    "qc = QuantumCircuit(8)\n",
    "\n",
    "def interaction(i, j, v=1/2):\n",
    "    global qc\n",
    "    qc.append(g(\"px\").control(), (i, j))\n",
    "    qc = qc.assign_parameters([0.5])\n",
    "    qc.cx(j, i)\n",
    "qc.x(0)\n",
    "qc.barrier()\n",
    "interaction(0, 1)\n",
    "qc.barrier()\n",
    "interaction(0, 2)\n",
    "interaction(1, 3)\n",
    "qc.barrier()\n",
    "interaction(0, 4)\n",
    "interaction(1, 5)\n",
    "interaction(2, 6)\n",
    "interaction(3, 7)\n",
    "\n",
    "fig = qc.draw(\"mpl\", plot_barriers=True, vertical_compression=\"high\")\n",
    "\n",
    "fig.savefig(\"w_log.png\", dpi=300, bbox_inches=\"tight\")"
   ]
  },
  {
   "cell_type": "code",
   "execution_count": null,
   "id": "21ee798e-3d40-4e40-8789-34d32eb86034",
   "metadata": {},
   "outputs": [],
   "source": []
  }
 ],
 "metadata": {
  "kernelspec": {
   "display_name": "Python 3 (ipykernel)",
   "language": "python",
   "name": "python3"
  },
  "language_info": {
   "codemirror_mode": {
    "name": "ipython",
    "version": 3
   },
   "file_extension": ".py",
   "mimetype": "text/x-python",
   "name": "python",
   "nbconvert_exporter": "python",
   "pygments_lexer": "ipython3",
   "version": "3.13.0"
  }
 },
 "nbformat": 4,
 "nbformat_minor": 5
}
