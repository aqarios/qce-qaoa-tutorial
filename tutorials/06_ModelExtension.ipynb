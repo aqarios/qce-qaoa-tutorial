{
  "cells": [
    {
      "cell_type": "markdown",
      "id": "37b3a6f0-23fe-40cd-a40e-91d2e62255f0",
      "metadata": {},
      "source": [
        "# 6. Model Extensions & Full Capabilities of FlexQAOA\n",
        "\n",
        "### Overview\n",
        "\n",
        "In this final notebook, we will take a look at an extension to the model, adding inequality constraints. This allows us to improve fairness of the formulation, hindering over-assignment of certain people.\n",
        "Inequality constraints can be integrated in QAOA through so-called indicator functions, basically quantum oracles that tell whether the inequality is satisfied or not.\n",
        "Through Fourier-math, one can compute the value of a constraining function based in the current input register. The first qubit of this additional register than encodes whether the function is greater or smaller than zero, meaning the constraint is satisfied or not.\n",
        "$$ \\sum_x c_x \\ket{x}\\ket{0} \\rightarrow \\sum_{x \\in \\mathcal{F}} c_x \\ket{x}\\ket{0} + \\sum_{x \\notin \\mathcal{F}} c_x \\ket{x}\\ket{1} \\rightarrow \\sum_{x \\in \\mathcal{F}} c_x \\ket{x}\\ket{0} + \\sum_{x \\notin \\mathcal{F}} c_x e^{-i \\gamma \\rho}\\ket{x}\\ket{1} \\rightarrow \\sum_x c_x \\exp\\left(-i\\gamma\\begin{cases}\\rho \\text{ if } x\\notin \\mathcal{F} \\\\ 0 \\text{ else } \\end{cases}\\right) \\ket{x}\\ket{0}$$\n",
        "\n",
        "This procedure can be repeated or applied in parallel for all inequality constraints to arrive at the following circuit diagram\n",
        "\n",
        "<img src=\"../assets/flex.png\" width=700px />"
      ]
    },
    {
      "cell_type": "code",
      "id": "694f583a-6fcd-4d2c-a7d9-2c9dbb9a7c37",
      "metadata": {},
      "source": [
        "import logging\n",
        "\n",
        "# Import necessary luna_quantum stuff\n",
        "from luna_quantum import Logging, Model, Solution, algorithms, config, quicksum\n",
        "from luna_quantum.solve.parameters.algorithms.quantum_gate.flex_qaoa import (\n",
        "    LinearOptimizerParams,\n",
        ")\n",
        "\n",
        "# Import model data\n",
        "from model.data import ConventionCenter, Schedule, SessionChair\n",
        "from model.model import optimization_model\n",
        "from model.visualization import (\n",
        "    plot_floor_plan,\n",
        "    plot_satisfaction,\n",
        "    solution_to_assignment,\n",
        ")\n",
        "\n",
        "# Import utils (from last notebook)\n",
        "from utils import pretty\n",
        "\n",
        "Logging.set_level(logging.NOTSET)\n",
        "config.LUNA_LOG_DISABLE_SPINNER = True\n",
        "\n",
        "%load_ext dotenv\n",
        "%dotenv"
      ]
    },
    {
      "cell_type": "markdown",
      "id": "32ec4250-7e45-4f23-998a-ac045815b12a",
      "metadata": {},
      "source": [
        "## The Session Chair Assignment Problem, Again\n",
        "\n",
        "This time we use a slighlty larger problem than we did beforehand. The same three session chairs, but more simultaneous sessions."
      ]
    },
    {
      "cell_type": "code",
      "id": "c817509a-7771-45e2-a4d3-ab881cab2aec",
      "metadata": {},
      "source": [
        "center = ConventionCenter.generate()\n",
        "schedule = Schedule.random(8, center, seed=5)\n",
        "chairs = SessionChair.random_chairs(3, schedule=schedule, seed=2)\n",
        "\n",
        "satisfaction = 2\n",
        "\n",
        "plot_floor_plan(center, schedule=schedule, chairs=chairs)"
      ]
    },
    {
      "cell_type": "code",
      "id": "8629ae81-de91-4bae-b2c2-56912357b28c",
      "metadata": {},
      "source": [
        "x, model = optimization_model(center, schedule, chairs, satisfaction=satisfaction)"
      ]
    },
    {
      "cell_type": "markdown",
      "id": "070d7a09-d228-4622-8a63-77f2e11f4511",
      "metadata": {},
      "source": [
        "Let's solve the problem with FlexQAOA with 5 QAOA layers and visualize the results."
      ]
    },
    {
      "cell_type": "code",
      "id": "21296113-79c1-4862-984a-00ef8f4572d5",
      "metadata": {},
      "source": [
        "fqaoa = algorithms.FlexQAOA(reps=5)\n",
        "sol = fqaoa.run(model).result()\n",
        "\n",
        "best = sol.best()\n",
        "assignment = solution_to_assignment(best, chairs)\n",
        "plot_floor_plan(center, schedule=schedule, chairs=chairs, assignment=assignment);"
      ]
    },
    {
      "cell_type": "code",
      "id": "156c28a3-e0ed-4575-9e07-826303d77154",
      "metadata": {},
      "source": [
        "plot_satisfaction(center, schedule, chairs, assignment)"
      ]
    },
    {
      "cell_type": "markdown",
      "id": "ae6b8ff9-28e7-48d0-ac61-afb950e6ac30",
      "metadata": {},
      "source": [
        "Clearly, the assignment can be considered really unfair, since the one chair is now responsible for 5 sessions simultaneously.\n",
        "\n",
        "## Model Extension\n",
        "\n",
        "Let's support Reba and extend the model with an inequality constraints that allows each chair to maximally host three sessions, which is clearly possible in this scenario."
      ]
    },
    {
      "cell_type": "code",
      "id": "32e3668f-41d4-437c-973a-b4ddd83a6d90",
      "metadata": {},
      "source": [
        "# Add the capacity constraints to the model\n",
        "########################################################################################\n",
        "### YOUR CODE BELOW\n",
        "########################################################################################\n",
        "\n",
        "\n",
        "\n",
        "########################################################################################\n",
        "### UNTIL HERE\n",
        "########################################################################################\n",
        "\n",
        "print(model)"
      ]
    },
    {
      "cell_type": "markdown",
      "id": "66df89cb-cbab-4d32-bb35-abccff6abe92",
      "metadata": {},
      "source": [
        "And solve the problem with FlexQAOA again"
      ]
    },
    {
      "cell_type": "code",
      "id": "1525bf02-5826-4772-a077-af50de2b11ba",
      "metadata": {},
      "source": [
        "fqaoa = algorithms.FlexQAOA(reps=8)\n",
        "sol = fqaoa.run(model).result()\n",
        "pretty(sol)"
      ]
    },
    {
      "cell_type": "code",
      "id": "f9fdf3c3-a962-4464-b642-fd53565fabaf",
      "metadata": {},
      "source": [
        "best = sol.best()\n",
        "assignment = solution_to_assignment(best, chairs)\n",
        "plot_floor_plan(center, schedule=schedule, chairs=chairs, assignment=assignment)"
      ]
    },
    {
      "cell_type": "code",
      "id": "6d766e72-28c5-4e92-b026-4676b19c690f",
      "metadata": {},
      "source": [
        "plot_satisfaction(center, schedule, chairs, assignment)"
      ]
    },
    {
      "cell_type": "markdown",
      "id": "433f310a-f544-49af-8912-88bacc8c2540",
      "metadata": {},
      "source": [
        "Let us double check if this solution is actually the corret one."
      ]
    },
    {
      "cell_type": "code",
      "id": "8f061e41-f96a-4a37-b630-3b3f23ee89b9",
      "metadata": {},
      "source": [
        "pretty(algorithms.SCIP().run(model).result())"
      ]
    },
    {
      "cell_type": "markdown",
      "id": "3aa966e1-1fab-49bf-804c-ef7a634895bd",
      "metadata": {},
      "source": [
        "---\n",
        "\n",
        "## 🎉 Congratulations!\n",
        "\n",
        "You've successfully completed all tutorials! We hope you found this tutor helpful and informative.\n",
        "\n",
        "### 📖 References & Further Reading\n",
        "This tutorial was built upon the following resources:\n",
        "\n",
        "- D. Bucher et al., 2025: \"Efficient QAOA Architecture for Solving Multi-Constrained Optimization Problems\" [[Paper]](https://arxiv.org/abs/2506.03115)\n",
        "\n",
        "---\n",
        "## 💡 Ready to dive deeper?\n",
        "\n",
        "Explore more tutorials, documentation, and resources to accelerate your journey\n",
        "\n",
        "<img src=\"https://docs.aqarios.com/assets/aqarios.png#only-light\" width=\"400px\" alt=\"Aqarios Logo\" />\n",
        "\n",
        "[![Website](https://img.shields.io/badge/🌐_Website-Visit_Aqarios.com-blue?style=for-the-badge)](https://www.aqarios.com)\n",
        "[![Documentation](https://img.shields.io/badge/📚_Documentation-Explore_Docs-green?style=for-the-badge)](https://docs.aqarios.com)\n",
        "[![LinkedIn](https://img.shields.io/badge/🤝_LinkedIn-Connect_With_Us-0077B5?style=for-the-badge&logo=linkedin)](https://www.linkedin.com/company/aqarios-gmbh/)\n",
        "\n",
        "\n",
        "**What's Next?**\n",
        "\n",
        "- **Explore our documentation** for advanced features and best practices\n",
        "- **Join our community** on LinkedIn for updates and discussions  \n",
        "- **Check out more tutorials** to expand your skills\n",
        "\n",
        "### 💬 Need Help?\n",
        "\n",
        "Have questions or feedback about this tutorial? We'd love to hear from you! Connect with us through any of the links above.\n",
        "\n",
        "---\n",
        "\n",
        "<div align=\"center\">\n",
        "<small>\n",
        "\n",
        "Tutorial provided by Aqarios GmbH | © 2025 Aqarios GmbH | Made with ❤️ for developers\n",
        "\n",
        "</small>\n",
        "</div>"
      ]
    },
    {
      "cell_type": "code",
      "id": "0cf77d6e-cac7-4d09-b8d1-3c8a722fc8b4",
      "metadata": {},
      "source": []
    }
  ],
  "metadata": {
    "kernelspec": {
      "display_name": "Python 3 (ipykernel)",
      "language": "python",
      "name": "python3"
    },
    "language_info": {
      "codemirror_mode": {
        "name": "ipython",
        "version": 3
      },
      "file_extension": ".py",
      "mimetype": "text/x-python",
      "name": "python",
      "nbconvert_exporter": "python",
      "pygments_lexer": "ipython3",
      "version": "3.13.0"
    }
  },
  "nbformat": 4,
  "nbformat_minor": 5
}
